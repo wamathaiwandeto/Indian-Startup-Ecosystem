{
 "cells": [
  {
   "cell_type": "markdown",
   "metadata": {},
   "source": [
    "# <span style=\"color: #4CAF50; font-family: 'Arial, sans-serif';\">WAMATHAI WANDETO LP1 PROJECT</span>\n",
    "## <span style=\"color: #2196F3; font-family: 'Verdana, sans-serif';\">AZUBI AFRICA PROJECT</span>"
   ]
  }
 ],
 "metadata": {
  "kernelspec": {
   "display_name": "base",
   "language": "python",
   "name": "python3"
  },
  "language_info": {
   "codemirror_mode": {
    "name": "ipython",
    "version": 3
   },
   "file_extension": ".py",
   "mimetype": "text/x-python",
   "name": "python",
   "nbconvert_exporter": "python",
   "pygments_lexer": "ipython3",
   "version": "3.12.0"
  }
 },
 "nbformat": 4,
 "nbformat_minor": 2
}
