{
 "cells": [
  {
   "cell_type": "markdown",
   "metadata": {},
   "source": [
    "# <span style=\"color: #4CAF50; font-family: 'Arial, sans-serif';\">LP1 PROJECT - Team Silicon</span>\n",
    "## <span style=\"color: #2196F3; font-family: 'Verdana, sans-serif';\">AZUBI AFRICA PROJECT</span>"
   ]
  },
  {
   "cell_type": "markdown",
   "metadata": {},
   "source": [
    "# INTRODUCTION\n",
    "As data analyst, we will explore the Indian startup ecosystem by analyzing data spanning from 2018 to 2021. This project will adhere to the CRISP-DM framework, aiming to deliver meaningful insights to our client."
   ]
  },
  {
   "cell_type": "markdown",
   "metadata": {},
   "source": [
    "# Business Understanding:\n",
    "1. Identify Key Trends:  \n",
    "Objective: Uncover and understand the key trends in the Indian startup ecosystem over the four-year period (2018-2021).  \n",
    "Goals: Identify sectors experiencing the most significant growth, the distribution of funding across rounds, and the geographic distribution of startup activities.\n",
    "2. Evaluate Funding Patterns:  \n",
    "Objective: Analyze funding patterns to understand how different sectors, rounds, and company activities attract investment.  \n",
    "Goals: Identify sectors receiving the highest and lowest funding, explore the distribution of funding amounts, and understand the most common types of company activities that attract investment.\n",
    "3. Assess Investor Involvement:  \n",
    "Objective: Understand the role and impact of investors in the Indian startup ecosystem.  \n",
    "Goals: Identify the most active investors, assess their investment patterns, and understand the correlation between investor involvement and \n",
    "startup success.\n",
    "\n",
    "# Project Goals:\n",
    "1. Clean and Prepare Data:  \n",
    "Objective: Ensure the dataset is cleaned and prepared for analysis.  \n",
    "Goals: Handle missing values, standardize data types, and address any inconsistencies or outliers.  \n",
    "2. Perform Exploratory Data Analysis (EDA)  \n",
    "Objective: Gain insights through exploratory analysis.  \n",
    "Goals: Visualize trends over time, explore distributions of funding amounts, and identify notable patterns in the data.  \n",
    "3. Communicate Findings:  \n",
    "Objective: Effectively communicate insights and findings.  \n",
    "Goals: Create clear and concise visualizations, reports, and presentations to convey key findings to stakeholders.\n",
    "4. Provide Recommendations:  \n",
    "Objective: Offer actionable recommendations based on the analysis.  \n",
    "Goals: Suggest strategies for startups, investors, and policymakers based on identified trends and opportunities."
   ]
  },
  {
   "cell_type": "markdown",
   "metadata": {},
   "source": [
    "# HYPOTHESIS TESTING \n",
    "1. Null Hypothesis (HO) - The amount of funding for companies is not influenced by the company's industry.\n",
    "2. Alternate Hypothesis (H1) - The amount of funding for companies is influenced by the company's industry."
   ]
  },
  {
   "cell_type": "markdown",
   "metadata": {},
   "source": [
    "# Business Questions\n",
    "1. How does the distribution of funding amounts vary across different industries?\n",
    "2. Are certain industries more consistent in funding amounts, indicating stability or predictability?\n",
    "3. Can we identify specific industries that tend to attract higher funding amounts?\n",
    "4. Are there outliers in the funding amounts within certain industries?\n",
    "5. Does the location influence the funding in certain industries"
   ]
  },
  {
   "cell_type": "markdown",
   "metadata": {},
   "source": [
    "--"
   ]
  },
  {
   "cell_type": "markdown",
   "metadata": {},
   "source": [
    "# PROJECT WORK"
   ]
  },
  {
   "cell_type": "code",
   "execution_count": 181,
   "metadata": {},
   "outputs": [],
   "source": [
    "# Importing the necessary libraries\n",
    "import pyodbc     \n",
    "#import the dotenv_values function from the dotenv package\n",
    "from dotenv import dotenv_values    \n",
    "import pandas as pd\n",
    "from pandas_summary import DataFrameSummary\n",
    "import warnings \n",
    "import re\n",
    "import numpy as np\n",
    "\n",
    "warnings.filterwarnings('ignore')"
   ]
  },
  {
   "cell_type": "code",
   "execution_count": 182,
   "metadata": {},
   "outputs": [],
   "source": [
    "import re"
   ]
  },
  {
   "cell_type": "code",
   "execution_count": 183,
   "metadata": {},
   "outputs": [],
   "source": [
    "from forex_python.converter import CurrencyRates"
   ]
  },
  {
   "cell_type": "code",
   "execution_count": 184,
   "metadata": {},
   "outputs": [],
   "source": [
    "import matplotlib.pyplot as plt\n",
    "import seaborn as sns"
   ]
  },
  {
   "cell_type": "code",
   "execution_count": 185,
   "metadata": {},
   "outputs": [],
   "source": [
    "# Load environment variables from .env file into a dictionary\n",
    "environment_variables = dotenv_values('.env')\n",
    "\n",
    "# Get the values for the credentials you set in the '.env' file\n",
    "server = environment_variables.get(\"server\")\n",
    "database = environment_variables.get(\"database\")\n",
    "username = environment_variables.get(\"username\")\n",
    "password = environment_variables.get(\"password\")"
   ]
  },
  {
   "cell_type": "code",
   "execution_count": 186,
   "metadata": {},
   "outputs": [],
   "source": [
    "connection_string = f\"DRIVER={{SQL Server}};SERVER={server};DATABASE={database};UID={username};PWD={password};MARS_Connection=yes;MinProtocolVersion=TLSv1.2;\""
   ]
  },
  {
   "cell_type": "code",
   "execution_count": 187,
   "metadata": {},
   "outputs": [],
   "source": [
    "# Use the connect method of the pyodbc library and pass in the connection string.\n",
    "\n",
    "connection = pyodbc.connect(connection_string)"
   ]
  },
  {
   "cell_type": "code",
   "execution_count": 188,
   "metadata": {},
   "outputs": [],
   "source": [
    "# importing the data sets to the environment. The first two are SQL queries to pull the 2020 & 2021 data from the server\n",
    "# The data3 & 4 are downloaded data sets thus importing them using pandas read_csv() for the 2018 & 2019 data sets\n",
    "\n",
    "query1 = \"SELECT * FROM dbo.LP1_startup_funding2021\"\n",
    "data1 = pd.read_sql(query1, connection)\n",
    "query2 = \"SELECT * FROM dbo.LP1_startup_funding2020\"\n",
    "data2 = pd.read_sql(query2, connection)"
   ]
  },
  {
   "cell_type": "code",
   "execution_count": 189,
   "metadata": {},
   "outputs": [],
   "source": [
    "data1.to_csv('startup_funding2021.csv', index =False)\n",
    "data2.to_csv('startup_funding2021.csv', index =False)"
   ]
  },
  {
   "cell_type": "code",
   "execution_count": 190,
   "metadata": {},
   "outputs": [],
   "source": [
    "df_2018 = pd.read_csv('startup_funding2018.csv')\n",
    "df_2019 = pd.read_csv('startup_funding2019.csv')\n",
    "df_2020 = pd.read_csv('startup_funding2020.csv')\n",
    "df_2021 = pd.read_csv('startup_funding2021.csv')"
   ]
  },
  {
   "cell_type": "markdown",
   "metadata": {},
   "source": [
    "### Checking Data sets loaded on to notebook"
   ]
  },
  {
   "cell_type": "code",
   "execution_count": 191,
   "metadata": {},
   "outputs": [
    {
     "data": {
      "text/html": [
       "<div>\n",
       "<style scoped>\n",
       "    .dataframe tbody tr th:only-of-type {\n",
       "        vertical-align: middle;\n",
       "    }\n",
       "\n",
       "    .dataframe tbody tr th {\n",
       "        vertical-align: top;\n",
       "    }\n",
       "\n",
       "    .dataframe thead th {\n",
       "        text-align: right;\n",
       "    }\n",
       "</style>\n",
       "<table border=\"1\" class=\"dataframe\">\n",
       "  <thead>\n",
       "    <tr style=\"text-align: right;\">\n",
       "      <th></th>\n",
       "      <th>Company Name</th>\n",
       "      <th>Industry</th>\n",
       "      <th>Round/Series</th>\n",
       "      <th>Amount</th>\n",
       "      <th>Location</th>\n",
       "      <th>About Company</th>\n",
       "    </tr>\n",
       "  </thead>\n",
       "  <tbody>\n",
       "    <tr>\n",
       "      <th>0</th>\n",
       "      <td>TheCollegeFever</td>\n",
       "      <td>Brand Marketing, Event Promotion, Marketing, S...</td>\n",
       "      <td>Seed</td>\n",
       "      <td>250000</td>\n",
       "      <td>Bangalore, Karnataka, India</td>\n",
       "      <td>TheCollegeFever is a hub for fun, fiesta and f...</td>\n",
       "    </tr>\n",
       "    <tr>\n",
       "      <th>1</th>\n",
       "      <td>Happy Cow Dairy</td>\n",
       "      <td>Agriculture, Farming</td>\n",
       "      <td>Seed</td>\n",
       "      <td>₹40,000,000</td>\n",
       "      <td>Mumbai, Maharashtra, India</td>\n",
       "      <td>A startup which aggregates milk from dairy far...</td>\n",
       "    </tr>\n",
       "  </tbody>\n",
       "</table>\n",
       "</div>"
      ],
      "text/plain": [
       "      Company Name                                           Industry  \\\n",
       "0  TheCollegeFever  Brand Marketing, Event Promotion, Marketing, S...   \n",
       "1  Happy Cow Dairy                               Agriculture, Farming   \n",
       "\n",
       "  Round/Series       Amount                     Location  \\\n",
       "0         Seed       250000  Bangalore, Karnataka, India   \n",
       "1         Seed  ₹40,000,000   Mumbai, Maharashtra, India   \n",
       "\n",
       "                                       About Company  \n",
       "0  TheCollegeFever is a hub for fun, fiesta and f...  \n",
       "1  A startup which aggregates milk from dairy far...  "
      ]
     },
     "execution_count": 191,
     "metadata": {},
     "output_type": "execute_result"
    }
   ],
   "source": [
    "df_2018.head(2)"
   ]
  },
  {
   "cell_type": "code",
   "execution_count": 192,
   "metadata": {},
   "outputs": [
    {
     "name": "stdout",
     "output_type": "stream",
     "text": [
      "<class 'pandas.core.frame.DataFrame'>\n",
      "RangeIndex: 526 entries, 0 to 525\n",
      "Data columns (total 6 columns):\n",
      " #   Column         Non-Null Count  Dtype \n",
      "---  ------         --------------  ----- \n",
      " 0   Company Name   526 non-null    object\n",
      " 1   Industry       526 non-null    object\n",
      " 2   Round/Series   526 non-null    object\n",
      " 3   Amount         526 non-null    object\n",
      " 4   Location       526 non-null    object\n",
      " 5   About Company  526 non-null    object\n",
      "dtypes: object(6)\n",
      "memory usage: 24.8+ KB\n"
     ]
    }
   ],
   "source": [
    "df_2018.info()"
   ]
  },
  {
   "cell_type": "markdown",
   "metadata": {},
   "source": [
    "The data frame from 2018 has the following attributes\n",
    "1. All the 6 columns don't have any null values, and thus the data entries will need to be checked for consistency\n",
    "2. There are 526 rows in the data frame\n",
    "3. the amount column is in object format and needs to be cleaned into a numeric format\n",
    "4. the column names should also be cleaned to become lower case and easy to read"
   ]
  },
  {
   "cell_type": "code",
   "execution_count": 193,
   "metadata": {},
   "outputs": [],
   "source": [
    "# Renaming the columns and puting them in lowercase\n",
    "new_column_names = {'Company Name': 'company_name', 'Industry': 'industry', 'Round/Series' : 'series',\n",
    "                    'Amount': 'amount', 'Location': 'location', 'About Company': 'about'}\n",
    "df_2018 = df_2018.rename(columns=new_column_names)"
   ]
  },
  {
   "cell_type": "code",
   "execution_count": 194,
   "metadata": {},
   "outputs": [
    {
     "name": "stdout",
     "output_type": "stream",
     "text": [
      "<class 'pandas.core.frame.DataFrame'>\n",
      "RangeIndex: 526 entries, 0 to 525\n",
      "Data columns (total 6 columns):\n",
      " #   Column        Non-Null Count  Dtype \n",
      "---  ------        --------------  ----- \n",
      " 0   company_name  526 non-null    object\n",
      " 1   industry      526 non-null    object\n",
      " 2   series        526 non-null    object\n",
      " 3   amount        526 non-null    object\n",
      " 4   location      526 non-null    object\n",
      " 5   about         526 non-null    object\n",
      "dtypes: object(6)\n",
      "memory usage: 24.8+ KB\n"
     ]
    }
   ],
   "source": [
    "df_2018.info()"
   ]
  },
  {
   "cell_type": "code",
   "execution_count": 195,
   "metadata": {},
   "outputs": [
    {
     "name": "stdout",
     "output_type": "stream",
     "text": [
      "Index(['company_name', 'industry', 'series', 'amount', 'location', 'about'], dtype='object')\n"
     ]
    }
   ],
   "source": [
    "print(df_2018.columns)"
   ]
  },
  {
   "cell_type": "code",
   "execution_count": 196,
   "metadata": {},
   "outputs": [
    {
     "data": {
      "text/plain": [
       "1"
      ]
     },
     "execution_count": 196,
     "metadata": {},
     "output_type": "execute_result"
    }
   ],
   "source": [
    "# Checking for duplicates in the 2018 data\n",
    "df_2018.duplicated().sum()"
   ]
  },
  {
   "cell_type": "code",
   "execution_count": 197,
   "metadata": {},
   "outputs": [],
   "source": [
    "# droping the duplicates\n",
    "df_2018.drop_duplicates(keep='first', inplace=True)"
   ]
  },
  {
   "cell_type": "code",
   "execution_count": 198,
   "metadata": {},
   "outputs": [
    {
     "name": "stdout",
     "output_type": "stream",
     "text": [
      "<class 'pandas.core.frame.DataFrame'>\n",
      "Index: 525 entries, 0 to 525\n",
      "Data columns (total 6 columns):\n",
      " #   Column        Non-Null Count  Dtype \n",
      "---  ------        --------------  ----- \n",
      " 0   company_name  525 non-null    object\n",
      " 1   industry      525 non-null    object\n",
      " 2   series        525 non-null    object\n",
      " 3   amount        525 non-null    object\n",
      " 4   location      525 non-null    object\n",
      " 5   about         525 non-null    object\n",
      "dtypes: object(6)\n",
      "memory usage: 28.7+ KB\n"
     ]
    }
   ],
   "source": [
    "# Checking id the rows are down to 525 from 526\n",
    "df_2018.info()"
   ]
  },
  {
   "cell_type": "markdown",
   "metadata": {},
   "source": [
    "#### Cleaning 2018 data column by column"
   ]
  },
  {
   "cell_type": "code",
   "execution_count": 199,
   "metadata": {},
   "outputs": [
    {
     "name": "stdout",
     "output_type": "stream",
     "text": [
      "Number of unique companies in 'company_name' column: 525\n"
     ]
    }
   ],
   "source": [
    "# Cleaning company_name column\n",
    "print(f\"Number of unique companies in 'company_name' column: {df_2018['company_name'].nunique()}\")"
   ]
  },
  {
   "cell_type": "markdown",
   "metadata": {},
   "source": [
    "##### Observation:\n",
    "1.The comany name column appears to be clean as is as there are no duplicated company names with 525 unique companies"
   ]
  },
  {
   "cell_type": "code",
   "execution_count": 200,
   "metadata": {},
   "outputs": [
    {
     "name": "stdout",
     "output_type": "stream",
     "text": [
      "Number of unique companies in 'industry' column: 405\n"
     ]
    }
   ],
   "source": [
    "# Checking the Industry column\n",
    "print(f\"Number of unique companies in 'industry' column: {df_2018['industry'].nunique()}\")"
   ]
  },
  {
   "cell_type": "code",
   "execution_count": 201,
   "metadata": {},
   "outputs": [
    {
     "data": {
      "text/plain": [
       "industry\n",
       "—                                                                                 30\n",
       "Financial Services                                                                15\n",
       "Education                                                                          8\n",
       "Information Technology                                                             7\n",
       "Finance, Financial Services                                                        5\n",
       "                                                                                  ..\n",
       "Business Intelligence, Customer Service, Market Research, SaaS                     1\n",
       "Digital Media, Internet, Media and Entertainment, Online Portals, Social Media     1\n",
       "Consumer Lending, Financial Services, Lending, Personal Finance                    1\n",
       "Education, Information Technology, Internet, Mobile, Software                      1\n",
       "Biotechnology, Health Care, Pharmaceutical                                         1\n",
       "Name: count, Length: 405, dtype: int64"
      ]
     },
     "execution_count": 201,
     "metadata": {},
     "output_type": "execute_result"
    }
   ],
   "source": [
    "df_2018['industry'].value_counts()"
   ]
  },
  {
   "cell_type": "code",
   "execution_count": 202,
   "metadata": {},
   "outputs": [
    {
     "name": "stdout",
     "output_type": "stream",
     "text": [
      "Number of unique companies in cleaned 'industry' column: 147\n"
     ]
    }
   ],
   "source": [
    "# To clean the industry column by removing the multiple entries and remaining with a common entry\n",
    "industry_lists = df_2018['industry'].str.split(', ').explode()\n",
    "# Get the most common industry for each original entry\n",
    "most_common_industry = industry_lists.groupby(level=0).agg(lambda x: x.mode().iloc[0])\n",
    "# Replace the 'industry' column with the most common industry for each entry\n",
    "df_2018['industry'] = most_common_industry\n",
    "# Check the result\n",
    "print(f\"Number of unique companies in cleaned 'industry' column: {df_2018['industry'].nunique()}\")"
   ]
  },
  {
   "cell_type": "code",
   "execution_count": 203,
   "metadata": {},
   "outputs": [],
   "source": [
    "# To remove the - in the industry column and covert to null\n",
    "df_2018['industry'] = df_2018['industry'].replace('-', np.nan)"
   ]
  },
  {
   "cell_type": "code",
   "execution_count": 204,
   "metadata": {},
   "outputs": [
    {
     "name": "stdout",
     "output_type": "stream",
     "text": [
      "Unique values in the 'series' column:\n",
      "21\n"
     ]
    }
   ],
   "source": [
    "# To clean the series column \n",
    "# First checking for unique values\n",
    "print(f\"Unique values in the 'series' column:\\n{df_2018['series'].nunique()}\")"
   ]
  },
  {
   "cell_type": "code",
   "execution_count": 205,
   "metadata": {},
   "outputs": [
    {
     "data": {
      "text/plain": [
       "array(['Seed', 'Series A', 'Angel', 'Series B', 'Pre-Seed',\n",
       "       'Private Equity', 'Venture - Series Unknown', 'Grant',\n",
       "       'Debt Financing', 'Post-IPO Debt', 'Series H', 'Series C',\n",
       "       'Series E', 'Corporate Round', 'Undisclosed',\n",
       "       'https://docs.google.com/spreadsheets/d/1x9ziNeaz6auNChIHnMI8U6kS7knTr3byy_YBGfQaoUA/edit#gid=1861303593',\n",
       "       'Series D', 'Secondary Market', 'Post-IPO Equity',\n",
       "       'Non-equity Assistance', 'Funding Round'], dtype=object)"
      ]
     },
     "execution_count": 205,
     "metadata": {},
     "output_type": "execute_result"
    }
   ],
   "source": [
    "df_2018['series'].unique()"
   ]
  },
  {
   "cell_type": "markdown",
   "metadata": {},
   "source": [
    "In the unique values, there appears to be a url link that need to be removed and replaced with the most common Venture - Series Unknown"
   ]
  },
  {
   "cell_type": "code",
   "execution_count": 206,
   "metadata": {},
   "outputs": [],
   "source": [
    "# Define the value to replace the URL link\n",
    "replacement_value = 'Venture - Series Unknown'\n",
    "# Replace the URL link with the defined replacement value\n",
    "df_2018['series'] = np.where(\n",
    "    df_2018['series'].str.contains('http'),  # Check if the value contains 'http'\n",
    "    replacement_value,\n",
    "    df_2018['series']  # Keep the original value if it doesn't contain 'http'\n",
    ")"
   ]
  },
  {
   "cell_type": "code",
   "execution_count": 207,
   "metadata": {},
   "outputs": [
    {
     "data": {
      "text/plain": [
       "array(['Seed', 'Series A', 'Angel', 'Series B', 'Pre-Seed',\n",
       "       'Private Equity', 'Venture - Series Unknown', 'Grant',\n",
       "       'Debt Financing', 'Post-IPO Debt', 'Series H', 'Series C',\n",
       "       'Series E', 'Corporate Round', 'Undisclosed', 'Series D',\n",
       "       'Secondary Market', 'Post-IPO Equity', 'Non-equity Assistance',\n",
       "       'Funding Round'], dtype=object)"
      ]
     },
     "execution_count": 207,
     "metadata": {},
     "output_type": "execute_result"
    }
   ],
   "source": [
    "# To check if the link has been dropped\n",
    "df_2018['series'].unique()"
   ]
  },
  {
   "cell_type": "code",
   "execution_count": 208,
   "metadata": {},
   "outputs": [
    {
     "data": {
      "text/plain": [
       "array(['250000', '₹40,000,000', '₹65,000,000', '2000000', '—', '1600000',\n",
       "       '₹16,000,000', '₹50,000,000', '₹100,000,000', '150000', '1100000',\n",
       "       '₹500,000', '6000000', '650000', '₹35,000,000', '₹64,000,000',\n",
       "       '₹20,000,000', '1000000', '5000000', '4000000', '₹30,000,000',\n",
       "       '2800000', '1700000', '1300000', '₹5,000,000', '₹12,500,000',\n",
       "       '₹15,000,000', '500000', '₹104,000,000', '₹45,000,000', '13400000',\n",
       "       '₹25,000,000', '₹26,400,000', '₹8,000,000', '₹60,000', '9000000',\n",
       "       '100000', '20000', '120000', '₹34,000,000', '₹342,000,000',\n",
       "       '$143,145', '₹600,000,000', '$742,000,000', '₹1,000,000,000',\n",
       "       '₹2,000,000,000', '$3,980,000', '$10,000', '₹100,000',\n",
       "       '₹250,000,000', '$1,000,000,000', '$7,000,000', '$35,000,000',\n",
       "       '₹550,000,000', '$28,500,000', '$2,000,000', '₹240,000,000',\n",
       "       '₹120,000,000', '$2,400,000', '$30,000,000', '₹2,500,000,000',\n",
       "       '$23,000,000', '$150,000', '$11,000,000', '₹44,000,000',\n",
       "       '$3,240,000', '₹60,000,000', '$540,000,000', '₹650,000,000',\n",
       "       '₹1,600,000,000', '$900,000', '$10,000,000', '$1,500,000',\n",
       "       '₹70,000,000', '$1,000,000', '$5,000,000', '$14,000,000',\n",
       "       '₹102,500,000', '$100,000,000', '₹1,200,000', '₹5,200,000,000',\n",
       "       '$800,000', '$1,041,000', '$100,000', '$15,000', '1400000',\n",
       "       '1200000', '2200000', '1800000', '3600000', '₹9,500,000', '300000',\n",
       "       '6830000', '200000', '₹150,000,000', '4300000', '364846', '400000',\n",
       "       '1500000', '₹7,000,000', '₹1,400,000', '₹10,000,000',\n",
       "       '₹22,500,000', '13200000', '50000', '₹140,200,000', '3000000',\n",
       "       '1250000', '180000', '₹19,200,000', '₹103,000,000', '4200000',\n",
       "       '175000', '1450000', '₹200,000', '4500000', '600000',\n",
       "       '₹16,600,000', '₹12,000,000', '15000000', '₹33,000,000', '125000',\n",
       "       '130000', '₹34,900,000', '₹72,000,000', '17200000', '₹32,000,000',\n",
       "       '3500000', '₹135,000,000', '12000000', '$40,000,000', '$1,100,000',\n",
       "       '$50,000,000', '₹1,540,000,000', '$3,000,000', '$6,000,000',\n",
       "       '₹140,000,000', '$41,900,000', '₹1,410,000,000', '$3,530,000',\n",
       "       '$200,000', '$3,300,000', '₹580,000,000', '₹36,000,000',\n",
       "       '₹340,000,000', '$210,000,000', '$37,680,000', '$250,000',\n",
       "       '$20,000', '₹510,000,000', '₹2,200,000,000', '22000000', '70000',\n",
       "       '10000000', '₹15,392,000,000', '₹20,000,000,000', '₹4,000,000,000',\n",
       "       '185000000', '65000000', '₹165,000,000', '700000', '30000000',\n",
       "       '₹210,000,000', '210000000', '₹2,029,600,000', '75000000',\n",
       "       '₹80,000,000', '1760000', '2700000', '₹280,000,000',\n",
       "       '₹800,000,000', '750000', '2500000', '80000000', '25000000',\n",
       "       '₹730,000,000', '₹400,000,000', '3700000', '5600000',\n",
       "       '₹260,000,000', '99230000', '70000000', '40000', '550000',\n",
       "       '50000000', '365000000', '₹8,750,000', '₹78,000,000', '28000000',\n",
       "       '₹264,000,000', '100000000', '₹1,130,000,000', '₹810,000,000',\n",
       "       '₹1,400,000,000', '14900000', '225000000', '7500', '35000000'],\n",
       "      dtype=object)"
      ]
     },
     "execution_count": 208,
     "metadata": {},
     "output_type": "execute_result"
    }
   ],
   "source": [
    "# To clean the amount column\n",
    "# First check the unique entries\n",
    "df_2018['amount'].unique()"
   ]
  },
  {
   "cell_type": "markdown",
   "metadata": {},
   "source": [
    "Key observations:\n",
    "1. Funding amounts are in Indian Rupees (₹), US Dollars ($), and potentially other currencies.\n",
    "2. Numeric values are present in both integer and float formats.\n",
    "3. Some entries include special characters like '—'.\n",
    "4. A few entries seem to contain URL links or non-numeric data.\n",
    "5. The data in this array may require cleaning and standardization to facilitate meaningful analysis of funding trends."
   ]
  },
  {
   "cell_type": "code",
   "execution_count": 209,
   "metadata": {},
   "outputs": [
    {
     "data": {
      "text/plain": [
       "0     250000.0\n",
       "1     584000.0\n",
       "2     949000.0\n",
       "3    2000000.0\n",
       "4          NaN\n",
       "Name: amount, dtype: float64"
      ]
     },
     "execution_count": 209,
     "metadata": {},
     "output_type": "execute_result"
    }
   ],
   "source": [
    "# Step 1: Manual conversion of Indian Rupees to USD with exchange rate 0.0146\n",
    "conversion_rate_inr_to_usd = 0.0146\n",
    "\n",
    "# Step 1: Convert entries with '₹' to dollars first, then to numeric\n",
    "df_2018['amount'] = df_2018['amount'].apply(lambda x: float(x.replace('₹', '').replace(',', '')) * conversion_rate_inr_to_usd if isinstance(x, str) and '₹' in x else x)\n",
    "\n",
    "# Step 2: Remove '$' from entries with a dollar sign and convert to numeric\n",
    "df_2018['amount'] = df_2018['amount'].apply(lambda x: float(x.replace('$', '').replace(',', '')) if isinstance(x, str) and '$' in x else x)\n",
    "\n",
    "# Step 3: Convert entries with no currency sign to numeric\n",
    "df_2018['amount'] = pd.to_numeric(df_2018['amount'], errors='coerce')\n",
    "\n",
    "# Step 4: Convert entries of \"-\" only to NaN\n",
    "df_2018['amount'] = df_2018['amount'].replace('-', float('nan'))\n",
    "\n",
    "# Display the updated DataFrame info\n",
    "df_2018['amount'].head()"
   ]
  },
  {
   "cell_type": "code",
   "execution_count": 210,
   "metadata": {},
   "outputs": [
    {
     "data": {
      "text/plain": [
       "array(['Bangalore, Karnataka, India', 'Mumbai, Maharashtra, India',\n",
       "       'Gurgaon, Haryana, India', 'Noida, Uttar Pradesh, India',\n",
       "       'Hyderabad, Andhra Pradesh, India', 'Bengaluru, Karnataka, India',\n",
       "       'Kalkaji, Delhi, India', 'Delhi, Delhi, India', 'India, Asia',\n",
       "       'Hubli, Karnataka, India', 'New Delhi, Delhi, India',\n",
       "       'Chennai, Tamil Nadu, India', 'Mohali, Punjab, India',\n",
       "       'Kolkata, West Bengal, India', 'Pune, Maharashtra, India',\n",
       "       'Jodhpur, Rajasthan, India', 'Kanpur, Uttar Pradesh, India',\n",
       "       'Ahmedabad, Gujarat, India', 'Azadpur, Delhi, India',\n",
       "       'Haryana, Haryana, India', 'Cochin, Kerala, India',\n",
       "       'Faridabad, Haryana, India', 'Jaipur, Rajasthan, India',\n",
       "       'Kota, Rajasthan, India', 'Anand, Gujarat, India',\n",
       "       'Bangalore City, Karnataka, India', 'Belgaum, Karnataka, India',\n",
       "       'Thane, Maharashtra, India', 'Margão, Goa, India',\n",
       "       'Indore, Madhya Pradesh, India', 'Alwar, Rajasthan, India',\n",
       "       'Kannur, Kerala, India', 'Trivandrum, Kerala, India',\n",
       "       'Ernakulam, Kerala, India', 'Kormangala, Karnataka, India',\n",
       "       'Uttar Pradesh, India, Asia', 'Andheri, Maharashtra, India',\n",
       "       'Mylapore, Tamil Nadu, India', 'Ghaziabad, Uttar Pradesh, India',\n",
       "       'Kochi, Kerala, India', 'Powai, Assam, India',\n",
       "       'Guntur, Andhra Pradesh, India', 'Kalpakkam, Tamil Nadu, India',\n",
       "       'Bhopal, Madhya Pradesh, India', 'Coimbatore, Tamil Nadu, India',\n",
       "       'Worli, Maharashtra, India', 'Alleppey, Kerala, India',\n",
       "       'Chandigarh, Chandigarh, India', 'Guindy, Tamil Nadu, India',\n",
       "       'Lucknow, Uttar Pradesh, India'], dtype=object)"
      ]
     },
     "execution_count": 210,
     "metadata": {},
     "output_type": "execute_result"
    }
   ],
   "source": [
    "# Cleaning the location column\n",
    "# Checking for unique values\n",
    "df_2018['location'].unique()"
   ]
  },
  {
   "cell_type": "markdown",
   "metadata": {},
   "source": [
    "1. The 'location' column in the df_2018 DataFrame includes entries representing various cities and regions in India. Each entry follows a structure of City, State, Country. \n",
    "2. However, there are instances where the location entries are not consistent, with variations in city names and formatting.\n",
    "3. For better analysis, it is important to split this column ito the three categories, City, State, Country"
   ]
  },
  {
   "cell_type": "code",
   "execution_count": 211,
   "metadata": {},
   "outputs": [],
   "source": [
    "# Create new columns for city, state, and country\n",
    "df_2018[['city', 'state', 'country']] = df_2018['location'].str.split(', ', expand=True)"
   ]
  },
  {
   "cell_type": "code",
   "execution_count": 212,
   "metadata": {},
   "outputs": [
    {
     "name": "stdout",
     "output_type": "stream",
     "text": [
      "Unique values in the 'series' column is: 524\n"
     ]
    }
   ],
   "source": [
    "# clean the about\n",
    "# Check for unique values\n",
    "print(f\"Unique values in the 'series' column is: {df_2018['about'].nunique()}\")"
   ]
  },
  {
   "cell_type": "markdown",
   "metadata": {},
   "source": [
    "The about column will be left as is since the values are 524 unique values all object formats"
   ]
  },
  {
   "cell_type": "code",
   "execution_count": 213,
   "metadata": {},
   "outputs": [
    {
     "name": "stdout",
     "output_type": "stream",
     "text": [
      "<class 'pandas.core.frame.DataFrame'>\n",
      "Index: 525 entries, 0 to 525\n",
      "Data columns (total 9 columns):\n",
      " #   Column        Non-Null Count  Dtype  \n",
      "---  ------        --------------  -----  \n",
      " 0   company_name  525 non-null    object \n",
      " 1   industry      525 non-null    object \n",
      " 2   series        525 non-null    object \n",
      " 3   amount        377 non-null    float64\n",
      " 4   location      525 non-null    object \n",
      " 5   about         525 non-null    object \n",
      " 6   city          525 non-null    object \n",
      " 7   state         525 non-null    object \n",
      " 8   country       521 non-null    object \n",
      "dtypes: float64(1), object(8)\n",
      "memory usage: 41.0+ KB\n"
     ]
    }
   ],
   "source": [
    "# Checking data info for final cleaning\n",
    "df_2018.info()"
   ]
  },
  {
   "cell_type": "code",
   "execution_count": 214,
   "metadata": {},
   "outputs": [
    {
     "name": "stdout",
     "output_type": "stream",
     "text": [
      "<class 'pandas.core.frame.DataFrame'>\n",
      "Index: 525 entries, 0 to 525\n",
      "Data columns (total 8 columns):\n",
      " #   Column        Non-Null Count  Dtype         \n",
      "---  ------        --------------  -----         \n",
      " 0   company_name  525 non-null    object        \n",
      " 1   industry      525 non-null    object        \n",
      " 2   series        525 non-null    object        \n",
      " 3   amount        377 non-null    float64       \n",
      " 4   about         525 non-null    object        \n",
      " 5   city          525 non-null    object        \n",
      " 6   state         525 non-null    object        \n",
      " 7   data_year     525 non-null    datetime64[ns]\n",
      "dtypes: datetime64[ns](1), float64(1), object(6)\n",
      "memory usage: 36.9+ KB\n"
     ]
    }
   ],
   "source": [
    "# Create final dataframe for 2018 data \n",
    "# 1. Drop 'amount', 'country', and 'location' columns\n",
    "df_2018.drop(['country', 'location'], axis=1, inplace=True)\n",
    "# 3. Add a separate column 'data_year' with 2018 as the only entry in datetime format\n",
    "df_2018['data_year'] = pd.to_datetime('2018', format='%Y')\n",
    "# Display the updated DataFrame info\n",
    "df_2018.info()"
   ]
  },
  {
   "cell_type": "code",
   "execution_count": 215,
   "metadata": {},
   "outputs": [
    {
     "data": {
      "text/html": [
       "<div>\n",
       "<style scoped>\n",
       "    .dataframe tbody tr th:only-of-type {\n",
       "        vertical-align: middle;\n",
       "    }\n",
       "\n",
       "    .dataframe tbody tr th {\n",
       "        vertical-align: top;\n",
       "    }\n",
       "\n",
       "    .dataframe thead th {\n",
       "        text-align: right;\n",
       "    }\n",
       "</style>\n",
       "<table border=\"1\" class=\"dataframe\">\n",
       "  <thead>\n",
       "    <tr style=\"text-align: right;\">\n",
       "      <th></th>\n",
       "      <th>company_name</th>\n",
       "      <th>industry</th>\n",
       "      <th>series</th>\n",
       "      <th>amount</th>\n",
       "      <th>about</th>\n",
       "      <th>city</th>\n",
       "      <th>state</th>\n",
       "      <th>data_year</th>\n",
       "    </tr>\n",
       "  </thead>\n",
       "  <tbody>\n",
       "    <tr>\n",
       "      <th>0</th>\n",
       "      <td>TheCollegeFever</td>\n",
       "      <td>Brand Marketing</td>\n",
       "      <td>Seed</td>\n",
       "      <td>250000.0</td>\n",
       "      <td>TheCollegeFever is a hub for fun, fiesta and f...</td>\n",
       "      <td>Bangalore</td>\n",
       "      <td>Karnataka</td>\n",
       "      <td>2018-01-01</td>\n",
       "    </tr>\n",
       "    <tr>\n",
       "      <th>1</th>\n",
       "      <td>Happy Cow Dairy</td>\n",
       "      <td>Agriculture</td>\n",
       "      <td>Seed</td>\n",
       "      <td>584000.0</td>\n",
       "      <td>A startup which aggregates milk from dairy far...</td>\n",
       "      <td>Mumbai</td>\n",
       "      <td>Maharashtra</td>\n",
       "      <td>2018-01-01</td>\n",
       "    </tr>\n",
       "    <tr>\n",
       "      <th>2</th>\n",
       "      <td>MyLoanCare</td>\n",
       "      <td>Credit</td>\n",
       "      <td>Series A</td>\n",
       "      <td>949000.0</td>\n",
       "      <td>Leading Online Loans Marketplace in India</td>\n",
       "      <td>Gurgaon</td>\n",
       "      <td>Haryana</td>\n",
       "      <td>2018-01-01</td>\n",
       "    </tr>\n",
       "    <tr>\n",
       "      <th>3</th>\n",
       "      <td>PayMe India</td>\n",
       "      <td>FinTech</td>\n",
       "      <td>Angel</td>\n",
       "      <td>2000000.0</td>\n",
       "      <td>PayMe India is an innovative FinTech organizat...</td>\n",
       "      <td>Noida</td>\n",
       "      <td>Uttar Pradesh</td>\n",
       "      <td>2018-01-01</td>\n",
       "    </tr>\n",
       "    <tr>\n",
       "      <th>4</th>\n",
       "      <td>Eunimart</td>\n",
       "      <td>E-Commerce Platforms</td>\n",
       "      <td>Seed</td>\n",
       "      <td>NaN</td>\n",
       "      <td>Eunimart is a one stop solution for merchants ...</td>\n",
       "      <td>Hyderabad</td>\n",
       "      <td>Andhra Pradesh</td>\n",
       "      <td>2018-01-01</td>\n",
       "    </tr>\n",
       "  </tbody>\n",
       "</table>\n",
       "</div>"
      ],
      "text/plain": [
       "      company_name              industry    series     amount  \\\n",
       "0  TheCollegeFever       Brand Marketing      Seed   250000.0   \n",
       "1  Happy Cow Dairy           Agriculture      Seed   584000.0   \n",
       "2       MyLoanCare                Credit  Series A   949000.0   \n",
       "3      PayMe India               FinTech     Angel  2000000.0   \n",
       "4         Eunimart  E-Commerce Platforms      Seed        NaN   \n",
       "\n",
       "                                               about       city  \\\n",
       "0  TheCollegeFever is a hub for fun, fiesta and f...  Bangalore   \n",
       "1  A startup which aggregates milk from dairy far...     Mumbai   \n",
       "2          Leading Online Loans Marketplace in India    Gurgaon   \n",
       "3  PayMe India is an innovative FinTech organizat...      Noida   \n",
       "4  Eunimart is a one stop solution for merchants ...  Hyderabad   \n",
       "\n",
       "            state  data_year  \n",
       "0       Karnataka 2018-01-01  \n",
       "1     Maharashtra 2018-01-01  \n",
       "2         Haryana 2018-01-01  \n",
       "3   Uttar Pradesh 2018-01-01  \n",
       "4  Andhra Pradesh 2018-01-01  "
      ]
     },
     "execution_count": 215,
     "metadata": {},
     "output_type": "execute_result"
    }
   ],
   "source": [
    "# displaying clean 2018 datframe\n",
    "df_2018.head(5)"
   ]
  },
  {
   "cell_type": "markdown",
   "metadata": {},
   "source": [
    "## Performing EDA on clean 2018 dataframe"
   ]
  },
  {
   "cell_type": "code",
   "execution_count": 216,
   "metadata": {},
   "outputs": [
    {
     "data": {
      "text/html": [
       "<div>\n",
       "<style scoped>\n",
       "    .dataframe tbody tr th:only-of-type {\n",
       "        vertical-align: middle;\n",
       "    }\n",
       "\n",
       "    .dataframe tbody tr th {\n",
       "        vertical-align: top;\n",
       "    }\n",
       "\n",
       "    .dataframe thead th {\n",
       "        text-align: right;\n",
       "    }\n",
       "</style>\n",
       "<table border=\"1\" class=\"dataframe\">\n",
       "  <thead>\n",
       "    <tr style=\"text-align: right;\">\n",
       "      <th></th>\n",
       "      <th>company_name</th>\n",
       "      <th>industry</th>\n",
       "      <th>series</th>\n",
       "      <th>amount</th>\n",
       "      <th>about</th>\n",
       "      <th>city</th>\n",
       "      <th>state</th>\n",
       "      <th>data_year</th>\n",
       "    </tr>\n",
       "  </thead>\n",
       "  <tbody>\n",
       "    <tr>\n",
       "      <th>count</th>\n",
       "      <td>525</td>\n",
       "      <td>525</td>\n",
       "      <td>525</td>\n",
       "      <td>3.770000e+02</td>\n",
       "      <td>525</td>\n",
       "      <td>525</td>\n",
       "      <td>525</td>\n",
       "      <td>525</td>\n",
       "    </tr>\n",
       "    <tr>\n",
       "      <th>unique</th>\n",
       "      <td>525</td>\n",
       "      <td>147</td>\n",
       "      <td>20</td>\n",
       "      <td>NaN</td>\n",
       "      <td>524</td>\n",
       "      <td>50</td>\n",
       "      <td>18</td>\n",
       "      <td>NaN</td>\n",
       "    </tr>\n",
       "    <tr>\n",
       "      <th>top</th>\n",
       "      <td>TheCollegeFever</td>\n",
       "      <td>—</td>\n",
       "      <td>Seed</td>\n",
       "      <td>NaN</td>\n",
       "      <td>Algorithmic trading platform.</td>\n",
       "      <td>Bangalore</td>\n",
       "      <td>Karnataka</td>\n",
       "      <td>NaN</td>\n",
       "    </tr>\n",
       "    <tr>\n",
       "      <th>freq</th>\n",
       "      <td>1</td>\n",
       "      <td>30</td>\n",
       "      <td>279</td>\n",
       "      <td>NaN</td>\n",
       "      <td>2</td>\n",
       "      <td>101</td>\n",
       "      <td>166</td>\n",
       "      <td>NaN</td>\n",
       "    </tr>\n",
       "    <tr>\n",
       "      <th>mean</th>\n",
       "      <td>NaN</td>\n",
       "      <td>NaN</td>\n",
       "      <td>NaN</td>\n",
       "      <td>1.761677e+07</td>\n",
       "      <td>NaN</td>\n",
       "      <td>NaN</td>\n",
       "      <td>NaN</td>\n",
       "      <td>2018-01-01 00:00:00</td>\n",
       "    </tr>\n",
       "    <tr>\n",
       "      <th>min</th>\n",
       "      <td>NaN</td>\n",
       "      <td>NaN</td>\n",
       "      <td>NaN</td>\n",
       "      <td>8.760000e+02</td>\n",
       "      <td>NaN</td>\n",
       "      <td>NaN</td>\n",
       "      <td>NaN</td>\n",
       "      <td>2018-01-01 00:00:00</td>\n",
       "    </tr>\n",
       "    <tr>\n",
       "      <th>25%</th>\n",
       "      <td>NaN</td>\n",
       "      <td>NaN</td>\n",
       "      <td>NaN</td>\n",
       "      <td>5.000000e+05</td>\n",
       "      <td>NaN</td>\n",
       "      <td>NaN</td>\n",
       "      <td>NaN</td>\n",
       "      <td>2018-01-01 00:00:00</td>\n",
       "    </tr>\n",
       "    <tr>\n",
       "      <th>50%</th>\n",
       "      <td>NaN</td>\n",
       "      <td>NaN</td>\n",
       "      <td>NaN</td>\n",
       "      <td>1.300000e+06</td>\n",
       "      <td>NaN</td>\n",
       "      <td>NaN</td>\n",
       "      <td>NaN</td>\n",
       "      <td>2018-01-01 00:00:00</td>\n",
       "    </tr>\n",
       "    <tr>\n",
       "      <th>75%</th>\n",
       "      <td>NaN</td>\n",
       "      <td>NaN</td>\n",
       "      <td>NaN</td>\n",
       "      <td>5.000000e+06</td>\n",
       "      <td>NaN</td>\n",
       "      <td>NaN</td>\n",
       "      <td>NaN</td>\n",
       "      <td>2018-01-01 00:00:00</td>\n",
       "    </tr>\n",
       "    <tr>\n",
       "      <th>max</th>\n",
       "      <td>NaN</td>\n",
       "      <td>NaN</td>\n",
       "      <td>NaN</td>\n",
       "      <td>1.000000e+09</td>\n",
       "      <td>NaN</td>\n",
       "      <td>NaN</td>\n",
       "      <td>NaN</td>\n",
       "      <td>2018-01-01 00:00:00</td>\n",
       "    </tr>\n",
       "    <tr>\n",
       "      <th>std</th>\n",
       "      <td>NaN</td>\n",
       "      <td>NaN</td>\n",
       "      <td>NaN</td>\n",
       "      <td>7.797261e+07</td>\n",
       "      <td>NaN</td>\n",
       "      <td>NaN</td>\n",
       "      <td>NaN</td>\n",
       "      <td>NaN</td>\n",
       "    </tr>\n",
       "  </tbody>\n",
       "</table>\n",
       "</div>"
      ],
      "text/plain": [
       "           company_name industry series        amount  \\\n",
       "count               525      525    525  3.770000e+02   \n",
       "unique              525      147     20           NaN   \n",
       "top     TheCollegeFever        —   Seed           NaN   \n",
       "freq                  1       30    279           NaN   \n",
       "mean                NaN      NaN    NaN  1.761677e+07   \n",
       "min                 NaN      NaN    NaN  8.760000e+02   \n",
       "25%                 NaN      NaN    NaN  5.000000e+05   \n",
       "50%                 NaN      NaN    NaN  1.300000e+06   \n",
       "75%                 NaN      NaN    NaN  5.000000e+06   \n",
       "max                 NaN      NaN    NaN  1.000000e+09   \n",
       "std                 NaN      NaN    NaN  7.797261e+07   \n",
       "\n",
       "                                about       city      state  \\\n",
       "count                             525        525        525   \n",
       "unique                            524         50         18   \n",
       "top     Algorithmic trading platform.  Bangalore  Karnataka   \n",
       "freq                                2        101        166   \n",
       "mean                              NaN        NaN        NaN   \n",
       "min                               NaN        NaN        NaN   \n",
       "25%                               NaN        NaN        NaN   \n",
       "50%                               NaN        NaN        NaN   \n",
       "75%                               NaN        NaN        NaN   \n",
       "max                               NaN        NaN        NaN   \n",
       "std                               NaN        NaN        NaN   \n",
       "\n",
       "                  data_year  \n",
       "count                   525  \n",
       "unique                  NaN  \n",
       "top                     NaN  \n",
       "freq                    NaN  \n",
       "mean    2018-01-01 00:00:00  \n",
       "min     2018-01-01 00:00:00  \n",
       "25%     2018-01-01 00:00:00  \n",
       "50%     2018-01-01 00:00:00  \n",
       "75%     2018-01-01 00:00:00  \n",
       "max     2018-01-01 00:00:00  \n",
       "std                     NaN  "
      ]
     },
     "execution_count": 216,
     "metadata": {},
     "output_type": "execute_result"
    }
   ],
   "source": [
    "# 1. Summary Statistics\n",
    "summary_stats = df_2018.describe(include=\"all\")\n",
    "summary_stats"
   ]
  },
  {
   "cell_type": "markdown",
   "metadata": {},
   "source": [
    "Observations:\n",
    "1. company_name:\n",
    "All entries in the company_name column are unique, indicating no repetition.The top entry is \"TheCollegeFever.\"\n",
    "2. industry: The industry column has 30 occurrences of a missing or unspecified value represented by \"—.\"The top industry is \"Financial Services,\" appearing 30 times.\n",
    "3. series: The most frequent funding series is \"Seed,\" occurring 279 times. There are 20 unique funding series in the dataset.\n",
    "4. amount: There are 377 non-null entries in the amount column.Funding amounts range from 876 to 1,000,000,000. The mean funding amount is approximately 17,616,770, while the standard deviation is 77,972,610.\n",
    "5. about: There are 525 unique entries in the about column.The most frequent description is \"Algorithmic trading platform,\" appearing twice.\n",
    "6. city: There are 101 occurrences of \"Bangalore\" in the city column, making it the most frequent city. There are 50 unique cities in the dataset.\n",
    "7. state: The most frequent state is \"Karnataka,\" appearing 166 times.There are 18 unique states in the dataset."
   ]
  },
  {
   "cell_type": "code",
   "execution_count": 217,
   "metadata": {},
   "outputs": [
    {
     "data": {
      "image/png": "[encoded data removed]",
      "text/plain": [
       "<Figure size 1000x600 with 1 Axes>"
      ]
     },
     "metadata": {},
     "output_type": "display_data"
    }
   ],
   "source": [
    "# 2. Distribution of series (Histogram)\n",
    "plt.figure(figsize=(10, 6))\n",
    "sns.histplot(df_2018['series'], bins=10, kde=True)\n",
    "plt.title('Distribution of series')\n",
    "plt.xlabel('series')\n",
    "plt.ylabel('Frequency')\n",
    "plt.show()"
   ]
  },
  {
   "cell_type": "code",
   "execution_count": 218,
   "metadata": {},
   "outputs": [
    {
     "data": {
      "text/plain": [
       "industry\n",
       "Insurance           3.715000e+08\n",
       "Aerospace           2.920000e+08\n",
       "Health Insurance    2.100000e+08\n",
       "Food Delivery       1.739442e+08\n",
       "Energy              1.163482e+08\n",
       "                        ...     \n",
       "Renewable Energy             NaN\n",
       "Smart Cities                 NaN\n",
       "Social Media                 NaN\n",
       "Transportation               NaN\n",
       "Wedding                      NaN\n",
       "Name: amount, Length: 147, dtype: float64"
      ]
     },
     "execution_count": 218,
     "metadata": {},
     "output_type": "execute_result"
    }
   ],
   "source": [
    "# 3. Funding by Industry\n",
    "industry_funding = df_2018.groupby('industry')['amount'].mean().sort_values(ascending=False)\n",
    "industry_funding"
   ]
  },
  {
   "cell_type": "code",
   "execution_count": 219,
   "metadata": {},
   "outputs": [
    {
     "data": {
      "text/plain": [
       "city\n",
       "Kalpakkam         2.100000e+08\n",
       "Haryana           6.046217e+07\n",
       "Bangalore         3.156973e+07\n",
       "Guindy            3.000000e+07\n",
       "Mumbai            2.631962e+07\n",
       "Alleppey          2.200000e+07\n",
       "Kormangala        1.709600e+07\n",
       "Faridabad         1.460000e+07\n",
       "Gurgaon           1.420715e+07\n",
       "New Delhi         1.326269e+07\n",
       "Jaipur            1.196986e+07\n",
       "Chennai           8.195975e+06\n",
       "Bengaluru         7.547112e+06\n",
       "Delhi             5.514367e+06\n",
       "Noida             4.267000e+06\n",
       "Pune              2.499622e+06\n",
       "Kolkata           2.464000e+06\n",
       "Margão            1.496500e+06\n",
       "Andheri           1.300000e+06\n",
       "Indore            1.058400e+06\n",
       "Bangalore City    1.001080e+06\n",
       "Belgaum           8.760000e+05\n",
       "Ahmedabad         8.522667e+05\n",
       "India             6.205000e+05\n",
       "Mylapore          6.000000e+05\n",
       "Kanpur            5.840000e+05\n",
       "Hyderabad         5.619491e+05\n",
       "Bhopal            5.100000e+05\n",
       "Thane             5.000000e+05\n",
       "Uttar Pradesh     4.380000e+05\n",
       "Coimbatore        2.500000e+05\n",
       "Kalkaji           2.336000e+05\n",
       "Guntur            1.300000e+05\n",
       "Jodhpur           7.300000e+04\n",
       "Ghaziabad         5.000000e+04\n",
       "Kannur            1.752000e+04\n",
       "Kota              1.460000e+03\n",
       "Alwar                      NaN\n",
       "Anand                      NaN\n",
       "Azadpur                    NaN\n",
       "Chandigarh                 NaN\n",
       "Cochin                     NaN\n",
       "Ernakulam                  NaN\n",
       "Hubli                      NaN\n",
       "Kochi                      NaN\n",
       "Lucknow                    NaN\n",
       "Mohali                     NaN\n",
       "Powai                      NaN\n",
       "Trivandrum                 NaN\n",
       "Worli                      NaN\n",
       "Name: amount, dtype: float64"
      ]
     },
     "execution_count": 219,
     "metadata": {},
     "output_type": "execute_result"
    }
   ],
   "source": [
    "# 4. Funding by Location\n",
    "location_funding = df_2018.groupby(['city'])['amount'].mean().sort_values(ascending=False)\n",
    "location_funding"
   ]
  },
  {
   "cell_type": "code",
   "execution_count": 220,
   "metadata": {},
   "outputs": [
    {
     "data": {
      "image/png": "[encoded data removed]",
      "text/plain": [
       "<Figure size 1000x600 with 1 Axes>"
      ]
     },
     "metadata": {},
     "output_type": "display_data"
    }
   ],
   "source": [
    "# 5. Series Distribution\n",
    "plt.figure(figsize=(10, 6))\n",
    "sns.countplot(x='series', data=df_2018)\n",
    "plt.title('Distribution of Funding Series')\n",
    "plt.xlabel('Funding Series')\n",
    "plt.ylabel('Count')\n",
    "plt.show()"
   ]
  }
 ],
 "metadata": {
  "kernelspec": {
   "display_name": "Python 3",
   "language": "python",
   "name": "python3"
  },
  "language_info": {
   "codemirror_mode": {
    "name": "ipython",
    "version": 3
   },
   "file_extension": ".py",
   "mimetype": "text/x-python",
   "name": "python",
   "nbconvert_exporter": "python",
   "pygments_lexer": "ipython3",
   "version": "3.12.0"
  }
 },
 "nbformat": 4,
 "nbformat_minor": 2
}
